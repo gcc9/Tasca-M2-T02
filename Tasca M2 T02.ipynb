{
 "cells": [
  {
   "cell_type": "code",
   "execution_count": 12,
   "id": "bb063beb",
   "metadata": {},
   "outputs": [
    {
     "name": "stdout",
     "output_type": "stream",
     "text": [
      "6\n",
      "Aprovat\n"
     ]
    }
   ],
   "source": [
    "# Exercici 1\n",
    "#L'exercici consisteix a crear un programa que et classifiqui una variable numèrica en funció de l’escala Suspès/Aprovat/Notable/Excel·lent.\n",
    "#Recorda que Suspès < 5, Aprovat > 5 i < 7, Notable > 7 i < 9 i Excel·lent > 9.\n",
    "\n",
    "import random as rd\n",
    "x = rd.randint(1,10)\n",
    "print(x)\n",
    "\n",
    "if x < 5: \n",
    "    print(\"Supès\")\n",
    "elif 5 <= x <7:\n",
    "    print(\"Aprovat\")\n",
    "elif 7<= x < 9:\n",
    "    print(\"Notable\")\n",
    "else:\n",
    "    print(\"Excelent\")\n"
   ]
  },
  {
   "cell_type": "code",
   "execution_count": 18,
   "id": "a4525086",
   "metadata": {},
   "outputs": [
    {
     "name": "stdout",
     "output_type": "stream",
     "text": [
      "Introdueix X: 3\n",
      "Introdueix Y: 3\n",
      "X i Y són iguals\n"
     ]
    }
   ],
   "source": [
    "# Exercici 2\n",
    "#Utilitzant el següent tutorial crea un programa que et pregunti dos números. T’ha de mostrar un missatge dient si el primer és més gran, el segon és més gran o són iguals.\n",
    "#->Programiz: Python Input, Output and Import\n",
    "\n",
    "x= input(\"Introdueix X: \")\n",
    "y = input(\"Introdueix Y: \")\n",
    "\n",
    "if x>y:\n",
    "    print(\"X és major que Y\")\n",
    "elif y>x:\n",
    "    print(\"Y és major que X\")\n",
    "else: \n",
    "    print(\"X i Y són iguals\")\n",
    "\n"
   ]
  },
  {
   "cell_type": "code",
   "execution_count": null,
   "id": "23f82bf6",
   "metadata": {},
   "outputs": [],
   "source": [
    "#- Exercici 3\n",
    "#Crea un programa que et pregunti el teu nom, i et demani un número. Si el número és 0, hauria de mostrar un missatge d’error. En cas contrari, hauria de mostrar el nom repetit tants cops com indiqui el número. Per exemple, “Joan Joan Joan”.\n",
    "\n",
    "x= input(\"Introdueix el teu nom: \")\n",
    "y = int(input(\"Introdueix un número, no pot ser 0: \"))\n",
    "if y == 0:\n",
    "    print(\"El número no pot ser 0, torna-ho a intentar\")\n",
    "else: \n",
    "    print(x*y)\n"
   ]
  },
  {
   "cell_type": "code",
   "execution_count": 271,
   "id": "629bae80",
   "metadata": {
    "scrolled": true
   },
   "outputs": [
    {
     "name": "stdout",
     "output_type": "stream",
     "text": [
      "La sèrie és simètrica i té  5  elements\n"
     ]
    }
   ],
   "source": [
    "#- Exercici 4\n",
    "#Crea un programa que donada una llista qualsevol, et digui si és simètrica o no. Si ho és, que et digui quants elements té.\n",
    "\n",
    "#_ _ _ _ _ _ _ _ _ _ _ _ _ _ _ _ _\n",
    "\n",
    "# La sèrie amb què treballem (inventada) és: \n",
    "l1 = [1,3,5,3,1]\n",
    "\n",
    "# Definim una nova sèrie, que és igual a l'anterior però amb els elements endreçats a la inversa:\n",
    "lon = len(l1) -1\n",
    "l2 = []\n",
    "while (lon >= 0):\n",
    "  l2.append(l1[lon])\n",
    "  lon = lon - 1\n",
    "    \n",
    "# Transformem les sèries amb pandas\n",
    "import pandas as pd\n",
    "l3 = pd.Series(l1)\n",
    "l4 = pd.Series(l2)\n",
    "\n",
    "# Comparem les 2 sèries, si són iguals és que la sèrie inicial és simètrica:\n",
    "if l3.equals(l4) == True:\n",
    "    print(\"La sèrie és simètrica i té \", len(l1), \" elements\")\n",
    "    \n",
    "else:\n",
    "    print(\"La sèrie no és simètrica\")\n",
    "\n",
    "\n",
    "#print(l1)    \n",
    "#print(l2)\n",
    "#print(l3)\n",
    "#print(l4)"
   ]
  },
  {
   "cell_type": "code",
   "execution_count": 4,
   "id": "f8241470",
   "metadata": {},
   "outputs": [
    {
     "name": "stdout",
     "output_type": "stream",
     "text": [
      "3\n"
     ]
    }
   ],
   "source": [
    "#- Exercici 5\n",
    "#Crea un programa que donada una llista, et digui quants números coincideixen amb la seva posició. Per exemple [3,4,2,0,2,3,6] el 2 i el 6 coincideixen.\n",
    "\n",
    "l1 = [0,3,5,3,4]   \n",
    "\n",
    "# Definim una nova sèrie, formada pels índex de la sèrie anterior:\n",
    "y = (len(l1))\n",
    "x = range(y)\n",
    "l2 = list(x)\n",
    "\n",
    "\n",
    "# Definim una variable en la que es faci la suma dels valors en els que l'índex sigui igual al valor de la sèrie. \n",
    "z = (sum(a==b for a, b in zip(l1,l2)))\n",
    "\n",
    "#Imprimim el resultat:\n",
    "print(z)\n",
    " \n"
   ]
  },
  {
   "cell_type": "code",
   "execution_count": null,
   "id": "14d245e7",
   "metadata": {},
   "outputs": [],
   "source": []
  }
 ],
 "metadata": {
  "kernelspec": {
   "display_name": "Python 3 (ipykernel)",
   "language": "python",
   "name": "python3"
  },
  "language_info": {
   "codemirror_mode": {
    "name": "ipython",
    "version": 3
   },
   "file_extension": ".py",
   "mimetype": "text/x-python",
   "name": "python",
   "nbconvert_exporter": "python",
   "pygments_lexer": "ipython3",
   "version": "3.9.12"
  }
 },
 "nbformat": 4,
 "nbformat_minor": 5
}
